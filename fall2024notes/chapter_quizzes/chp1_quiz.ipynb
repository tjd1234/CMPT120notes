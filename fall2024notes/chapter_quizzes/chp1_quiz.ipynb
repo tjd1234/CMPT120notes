{
 "cells": [
  {
   "cell_type": "markdown",
   "metadata": {},
   "source": [
    "# Chapter 1 Quiz\n",
    "\n",
    "Draft! Questions may change, have mistakes, etc."
   ]
  },
  {
   "cell_type": "markdown",
   "metadata": {},
   "source": [
    "## Question 1"
   ]
  },
  {
   "cell_type": "markdown",
   "metadata": {},
   "source": [
    "What does this print?\n",
    "\n",
    "print(17 // 3)\n",
    "\n",
    "* 5\n",
    "x 5.0\n",
    "x 5.333333333333333\n",
    "x 6\n",
    "x 6.0\n"
   ]
  },
  {
   "cell_type": "code",
   "execution_count": 3,
   "metadata": {},
   "outputs": [
    {
     "name": "stdout",
     "output_type": "stream",
     "text": [
      "5\n"
     ]
    }
   ],
   "source": [
    "print(17 // 3)"
   ]
  },
  {
   "cell_type": "markdown",
   "metadata": {},
   "source": [
    "## Question 2"
   ]
  },
  {
   "cell_type": "markdown",
   "metadata": {},
   "source": [
    "What does this print?\n",
    "\n",
    "print(2 * 3+3 / 2)\n",
    "\n",
    "x 4.0\n",
    "x 4.5\n",
    "x 6.0\n",
    "* 7.5"
   ]
  },
  {
   "cell_type": "code",
   "execution_count": 6,
   "metadata": {},
   "outputs": [
    {
     "name": "stdout",
     "output_type": "stream",
     "text": [
      "2.0\n",
      "7.5\n"
     ]
    }
   ],
   "source": [
    "print(2 * 3+3 / 2)"
   ]
  },
  {
   "cell_type": "markdown",
   "metadata": {},
   "source": [
    "## Question 3"
   ]
  },
  {
   "cell_type": "markdown",
   "metadata": {},
   "source": [
    "How many of these statements contain a syntax error?\n",
    "\n",
    "```python\n",
    "print(2 ** 3)            # statement 1\n",
    "print(3 ++ 2)            # statement 2\n",
    "print(2 * (3 + 6)) / 2   # statement 3\n",
    "```\n",
    "\n",
    "x 0\n",
    "x 1\n",
    "* 2\n",
    "x 3"
   ]
  },
  {
   "cell_type": "markdown",
   "metadata": {},
   "source": [
    "## Question 4"
   ]
  },
  {
   "cell_type": "markdown",
   "metadata": {},
   "source": [
    "Which statement prints this?\n",
    "\n",
    "...\"I can't!\"...\n",
    "\n",
    "x print(\"...\"I can't!\"...\")  \n",
    "x print(\"...\"\"I can't!\"\"...\")\n",
    "x print('...\"I can't!\"...')  \n",
    "* print(\"\"\"...\"I can't!\"...\"\"\")"
   ]
  },
  {
   "cell_type": "code",
   "execution_count": 13,
   "metadata": {},
   "outputs": [
    {
     "name": "stdout",
     "output_type": "stream",
     "text": [
      "...\"I can't!\"...\n"
     ]
    }
   ],
   "source": [
    "# print(\"...\"I can't!\"...\")    # wrong\n",
    "# print(\"...\"\"I can't!\"\"...\")  # wrong\n",
    "# print('...\"I can't!\"...')    # wrong\n",
    "print(\"\"\"...\"I can't!\"...\"\"\")  # right"
   ]
  },
  {
   "cell_type": "markdown",
   "metadata": {},
   "source": [
    "## Question 5"
   ]
  },
  {
   "cell_type": "markdown",
   "metadata": {},
   "source": [
    "What does this print?\n",
    "\n",
    "print(len('cat') * 'cat' + 'cat')\n",
    "\n",
    "x nothing: it causes an error\n",
    "* 'catcatcatcat'\n",
    "x 'catcatcat'"
   ]
  },
  {
   "cell_type": "code",
   "execution_count": 14,
   "metadata": {},
   "outputs": [
    {
     "name": "stdout",
     "output_type": "stream",
     "text": [
      "catcatcatcat\n"
     ]
    }
   ],
   "source": [
    "print(len('cat') * 'cat' + 'cat')"
   ]
  },
  {
   "cell_type": "markdown",
   "metadata": {},
   "source": [
    "## Question 6"
   ]
  },
  {
   "cell_type": "markdown",
   "metadata": {},
   "source": [
    "What does this print?\n",
    "\n",
    "print(len('cat') + 'cat' + 'cat')\n",
    "\n",
    "* nothing: it causes an error\n",
    "x 'catcatcat'\n",
    "x '3catcat'"
   ]
  },
  {
   "cell_type": "code",
   "execution_count": 15,
   "metadata": {},
   "outputs": [
    {
     "ename": "TypeError",
     "evalue": "unsupported operand type(s) for +: 'int' and 'str'",
     "output_type": "error",
     "traceback": [
      "\u001b[0;31m---------------------------------------------------------------------------\u001b[0m",
      "\u001b[0;31mTypeError\u001b[0m                                 Traceback (most recent call last)",
      "\u001b[0;32m/tmp/ipykernel_3124/3257157865.py\u001b[0m in \u001b[0;36m<module>\u001b[0;34m\u001b[0m\n\u001b[0;32m----> 1\u001b[0;31m \u001b[0mprint\u001b[0m\u001b[0;34m(\u001b[0m\u001b[0mlen\u001b[0m\u001b[0;34m(\u001b[0m\u001b[0;34m'cat'\u001b[0m\u001b[0;34m)\u001b[0m \u001b[0;34m+\u001b[0m \u001b[0;34m'cat'\u001b[0m \u001b[0;34m+\u001b[0m \u001b[0;34m'cat'\u001b[0m\u001b[0;34m)\u001b[0m\u001b[0;34m\u001b[0m\u001b[0;34m\u001b[0m\u001b[0m\n\u001b[0m",
      "\u001b[0;31mTypeError\u001b[0m: unsupported operand type(s) for +: 'int' and 'str'"
     ]
    }
   ],
   "source": [
    "print(len('cat') + 'cat' + 'cat')"
   ]
  },
  {
   "cell_type": "markdown",
   "metadata": {},
   "source": [
    "## Question 7"
   ]
  },
  {
   "cell_type": "markdown",
   "metadata": {},
   "source": [
    "What does this print?\n",
    "\n",
    "print(int(2.6))\n",
    "\n",
    "* 2\n",
    "x 3\n",
    "x False\n",
    "x nothing: it causes an error"
   ]
  },
  {
   "cell_type": "code",
   "execution_count": 16,
   "metadata": {},
   "outputs": [
    {
     "name": "stdout",
     "output_type": "stream",
     "text": [
      "2\n"
     ]
    }
   ],
   "source": [
    "print(int(2.6))"
   ]
  },
  {
   "cell_type": "markdown",
   "metadata": {},
   "source": [
    "## Question 8"
   ]
  },
  {
   "cell_type": "markdown",
   "metadata": {},
   "source": [
    "What is the type of `'3.5'`?\n",
    "\n",
    "* just <class 'str'>\n",
    "x just <class 'float'>\n",
    "x both <class 'str'> and <class 'float'>"
   ]
  },
  {
   "cell_type": "markdown",
   "metadata": {},
   "source": []
  },
  {
   "cell_type": "code",
   "execution_count": 17,
   "metadata": {},
   "outputs": [
    {
     "name": "stdout",
     "output_type": "stream",
     "text": [
      "<class 'str'>\n"
     ]
    }
   ],
   "source": [
    "print(type('3.5'))"
   ]
  },
  {
   "cell_type": "markdown",
   "metadata": {},
   "source": [
    "## Question 9"
   ]
  },
  {
   "cell_type": "markdown",
   "metadata": {},
   "source": [
    "Consider these statements:\n",
    "\n",
    "i) Python is a high-level language.\n",
    "ii) Python is a formal language.\n",
    "\n",
    "* a) Both i) and ii) are true.\n",
    "b) i) is true, ii) is false.\n",
    "c) i) is false, ii) is true.\n",
    "d) Both i) and ii) are false."
   ]
  },
  {
   "cell_type": "markdown",
   "metadata": {},
   "source": [
    "## Question 10"
   ]
  },
  {
   "cell_type": "markdown",
   "metadata": {},
   "source": [
    "Consider these statements:\n",
    "\n",
    "i) Python is a garbage-collected language.\n",
    "ii) Python's syntax is very similar to C/C++.\n",
    "\n",
    "a) Both i) and ii) are true.\n",
    "*b) i) is true, ii) is false.\n",
    "c) i) is false, ii) is true.\n",
    "d) Both i) and ii) are false."
   ]
  }
 ],
 "metadata": {
  "kernelspec": {
   "display_name": "Python 3",
   "language": "python",
   "name": "python3"
  },
  "language_info": {
   "codemirror_mode": {
    "name": "ipython",
    "version": 3
   },
   "file_extension": ".py",
   "mimetype": "text/x-python",
   "name": "python",
   "nbconvert_exporter": "python",
   "pygments_lexer": "ipython3",
   "version": "3.8.10"
  }
 },
 "nbformat": 4,
 "nbformat_minor": 2
}
