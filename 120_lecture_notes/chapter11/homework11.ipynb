{
 "cells": [
  {
   "cell_type": "markdown",
   "metadata": {},
   "source": [
    "# Homework 11"
   ]
  },
  {
   "cell_type": "markdown",
   "metadata": {},
   "source": [
    "This is based on chapter 11 of the course notes, and may introduce a few topics\n",
    "not mentioned there.\n",
    "\n",
    "You can also do the exercises at the bottom of the textbook chapter."
   ]
  },
  {
   "cell_type": "markdown",
   "metadata": {},
   "source": [
    "## Practice Question 1"
   ]
  },
  {
   "cell_type": "markdown",
   "metadata": {},
   "source": [
    "Write a program that prints the top 10 most frequently occurring words in a\n",
    "given text file. Use `split` to break the file into words, and then convert all\n",
    "the words to lowercase using the string `lower` method.\n",
    "\n",
    "For example, the top 10 words in the text file\n",
    "[austenPandP.txt](austenPandP.txt) are:\n",
    "\n",
    "```\n",
    "1. the (4480)\n",
    "2. to (4169)\n",
    "3. of (3678)\n",
    "4. and (3398)\n",
    "5. a (1982)\n",
    "6. her (1941)\n",
    "7. in (1889)\n",
    "8. was (1798)\n",
    "9. i (1739)\n",
    "10. she (1611)\n",
    "```\n",
    "\n",
    "Your program should print its output in the same format, and work for any text\n",
    "file.\n",
    "\n",
    "**Hint 1**: If `d` is a dictionary, then `d.items()` is a list of its key:value\n",
    "pairs as tuples.\n",
    "\n",
    "**Hint 2**: If `L` is a list, then `sorted(L, reverse=True)` sorts the list in\n",
    "reverse order. When you are sorting a list of tuples, you can use the `key`\n",
    "argument to specify which element of the tuple to sort by. For example, suppose\n",
    "`second` is defined like this:\n",
    "\n",
    "```python\n",
    "def second(t):\n",
    "    return t[1]\n",
    "```\n",
    "Then the expression `sorted(L, key=second)` sorts `L` in order by the *second*\n",
    "element of each tuple."
   ]
  },
  {
   "cell_type": "code",
   "execution_count": null,
   "metadata": {},
   "outputs": [],
   "source": [
    "# ..."
   ]
  }
 ],
 "metadata": {
  "kernelspec": {
   "display_name": "Python 3",
   "language": "python",
   "name": "python3"
  },
  "language_info": {
   "codemirror_mode": {
    "name": "ipython",
    "version": 3
   },
   "file_extension": ".py",
   "mimetype": "text/x-python",
   "name": "python",
   "nbconvert_exporter": "python",
   "pygments_lexer": "ipython3",
   "version": "3.8.10"
  }
 },
 "nbformat": 4,
 "nbformat_minor": 2
}
